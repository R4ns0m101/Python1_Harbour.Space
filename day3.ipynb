{
 "cells": [
  {
   "cell_type": "markdown",
   "id": "7c417957",
   "metadata": {},
   "source": [
    "### Logical Operation"
   ]
  },
  {
   "cell_type": "code",
   "execution_count": null,
   "id": "f83a22f1",
   "metadata": {
    "vscode": {
     "languageId": "plaintext"
    }
   },
   "outputs": [],
   "source": [
    "'Proposition' (n.): statement that you can assign boolean value it.\n",
    "\n",
    "'You are male.' is a proposition\n",
    "\n",
    "Are you male?/Don't eat in the classroom.' is not a proposition"
   ]
  }
 ],
 "metadata": {
  "kernelspec": {
   "display_name": "Python 3",
   "language": "python",
   "name": "python3"
  },
  "language_info": {
   "codemirror_mode": {
    "name": "ipython",
    "version": 3
   },
   "file_extension": ".py",
   "mimetype": "text/x-python",
   "name": "python",
   "nbconvert_exporter": "python",
   "pygments_lexer": "ipython3",
   "version": "3.13.5"
  }
 },
 "nbformat": 4,
 "nbformat_minor": 5
}
